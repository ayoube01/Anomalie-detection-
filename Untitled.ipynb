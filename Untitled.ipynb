{
 "cells": [
  {
   "cell_type": "code",
   "execution_count": 4,
   "metadata": {},
   "outputs": [
    {
     "name": "stdout",
     "output_type": "stream",
     "text": [
      "Europe/Paris\n",
      "2011-01-21 02:37:21\n",
      "2011-01-21 03:37:21+01:00\n"
     ]
    }
   ],
   "source": [
    "from datetime import datetime\n",
    "import pytz    # $ pip install pytz\n",
    "import tzlocal # $ pip install tzlocal\n",
    "\n",
    "local_timezone = tzlocal.get_localzone() # get pytz tzinfo\n",
    "print(local_timezone)\n",
    "utc_time = datetime.strptime(\"2011-01-21 02:37:21\", \"%Y-%m-%d %H:%M:%S\")\n",
    "print(utc_time)\n",
    "local_time = utc_time.replace(tzinfo=pytz.utc).astimezone(local_timezone)\n",
    "print(local_time)"
   ]
  },
  {
   "cell_type": "code",
   "execution_count": null,
   "metadata": {},
   "outputs": [],
   "source": []
  }
 ],
 "metadata": {
  "kernelspec": {
   "display_name": "Python 2",
   "language": "python",
   "name": "python2"
  },
  "language_info": {
   "codemirror_mode": {
    "name": "ipython",
    "version": 2
   },
   "file_extension": ".py",
   "mimetype": "text/x-python",
   "name": "python",
   "nbconvert_exporter": "python",
   "pygments_lexer": "ipython2",
   "version": "2.7.14"
  }
 },
 "nbformat": 4,
 "nbformat_minor": 2
}
