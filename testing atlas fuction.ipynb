{
 "cells": [
  {
   "cell_type": "code",
   "execution_count": null,
   "metadata": {},
   "outputs": [],
   "source": [
    "import library.dataset_atlas as dataset_atlas\n",
    "import library.dataset as dataset\n",
    "import library.stats.atlas as atlas\n",
    "# iPython-specific\n",
    "import IPython\n",
    "\n",
    "# standard libs\n",
    "import pandas as pd\n",
    "from pprint import pprint\n",
    "from datetime import datetime, timedelta\n",
    "from influxdb import DataFrameClient\n",
    "import collections\n",
    "import numpy as np\n",
    "import math\n",
    "\n",
    "# custom libs\n",
    "import library.date_manipulation as date_manipulation\n",
    "import library.stats.atlas as atlas\n",
    "import library.stats.variation as stats_variation\n",
    "import library.influx.query as influx_query\n",
    "\n",
    "# dataset import\n",
    "import library.dataset as dataset\n",
    "#import for calculat time of execution \n",
    "import time"
   ]
  },
  {
   "cell_type": "code",
   "execution_count": null,
   "metadata": {},
   "outputs": [],
   "source": [
    "start_time = time.time()\n",
    "\n",
    "#Parametres for Getting the table from influxdb\n",
    "boundary_from = '2018-06-13'\n",
    "boundary_to = '2018-06-14'\n",
    "table=\"timer_request_by_business\"\n",
    "\n",
    "#geting the table \n",
    "\n",
    "#df_dict = dataset.get_data_from_prod_interval_high_precision_for_atlas(boundary_from,boundary_to,table )\n",
    "#df_dict = dataset.get_data_from_prod_interval_low_precision_sum_count_service_mno(boundary_from,boundary_to,table )\n",
    "\n",
    "#add +2h for the local Time\n",
    "#df_dict = dataset.get_data_from_prod_from_now_high_precision_for_atlas(6,table )\n",
    "df_dict = dataset.get_data_from_prod_from_now_high_precision_for_atlas_by_service(50,table )\n",
    "\n",
    "\n",
    "#Parametres for cleaning the series\n",
    "period_between_points=10\n",
    "period_between_points_unit=\"s\"\n",
    "\n",
    "\n",
    "\n",
    "#cleaning the dataframe's dict from series without enough points\n",
    "df_dict=date_manipulation.remove_series_without_enough_points(boundary_from,boundary_to,df_dict,period_between_points, period_between_points_unit)\n"
   ]
  },
  {
   "cell_type": "code",
   "execution_count": null,
   "metadata": {
    "scrolled": true
   },
   "outputs": [],
   "source": [
    "#Parametres for Atlas\n",
    "\n",
    "# possible values for prediction_method= mean \\ least_squares \\ polyfit\n",
    "prediction_method='mean'\n",
    "\n",
    "# possible values for keep = False \\ True\n",
    "keep=False\n",
    "#field used for calculating os surprises in df_dict\n",
    "field='count'\n",
    "#interval used \n",
    "atlas_interval_duration=timedelta(hours=0.1)\n",
    "atlas_sliding_shift=timedelta(minutes=1)\n",
    "#possible values for atlas_mode= sliding \\ stacked\n",
    "atlas_mode='sliding'\n",
    "\n",
    "\n",
    "#calculating surprises\n",
    "df_dict_surprises =atlas.compute_surprises_for_df_dict(df_dict, prediction_method, keep, field,atlas_interval_duration, atlas_sliding_shift,atlas_mode)\n",
    "\n",
    "pprint(\"fin du du dict surprise\")\n",
    "\n",
    "#calculating grubbs tests\n",
    "df_dict_grubbs=atlas.compute_grubbs_for_surprises_df_dict(df_dict_surprises, prediction_method, keep,atlas_interval_duration, atlas_sliding_shift,atlas_mode)\n",
    "\n",
    "pprint(\"fin du du df_dict_grubbs\")\n",
    "#inserting the Grubbs test result in mydb \n",
    "dataset_atlas.insert_grubbs_in_mydb(df_dict_grubbs, prediction_method, keep,atlas_interval_duration,atlas_sliding_shift, atlas_mode)\n",
    "print(\"--- %s seconds ---\" % (time.time() - start_time))"
   ]
  },
  {
   "cell_type": "code",
   "execution_count": null,
   "metadata": {},
   "outputs": [],
   "source": [
    "df_dict"
   ]
  },
  {
   "cell_type": "code",
   "execution_count": null,
   "metadata": {},
   "outputs": [],
   "source": []
  }
 ],
 "metadata": {
  "kernelspec": {
   "display_name": "Python 2",
   "language": "python",
   "name": "python2"
  },
  "language_info": {
   "codemirror_mode": {
    "name": "ipython",
    "version": 2
   },
   "file_extension": ".py",
   "mimetype": "text/x-python",
   "name": "python",
   "nbconvert_exporter": "python",
   "pygments_lexer": "ipython2",
   "version": "2.7.14"
  }
 },
 "nbformat": 4,
 "nbformat_minor": 2
}
